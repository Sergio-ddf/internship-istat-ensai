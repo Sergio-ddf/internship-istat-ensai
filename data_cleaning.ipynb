{
  "nbformat": 4,
  "nbformat_minor": 0,
  "metadata": {
    "colab": {
      "provenance": []
    },
    "kernelspec": {
      "name": "python3",
      "display_name": "Python 3"
    },
    "language_info": {
      "name": "python"
    }
  },
  "cells": [
    {
      "cell_type": "markdown",
      "source": [
        "# Data cleaning pipeline"
      ],
      "metadata": {
        "id": "nTytYXMMX1wu"
      }
    },
    {
      "cell_type": "code",
      "execution_count": 3,
      "metadata": {
        "id": "L58_T4X9UQC3"
      },
      "outputs": [],
      "source": [
        "import pandas as pd\n",
        "from sklearn.model_selection import train_test_split\n",
        "\n",
        "# ========= Helpers =========\n",
        "def count_multilabel_rows(df: pd.DataFrame, label_cols):\n",
        "    s = df[label_cols].sum(axis=1)\n",
        "    return int((s > 1).sum()), int((s == 1).sum())\n",
        "\n",
        "def to_monolabel(df: pd.DataFrame, label_cols):\n",
        "    active = df[label_cols].sum(axis=1)\n",
        "    return df.loc[active == 1].copy()\n",
        "\n",
        "def reformat_emit_to_istat(df: pd.DataFrame):\n",
        "    df = df.copy()\n",
        "    label_cols = [c for c in df.columns if c not in [\"id\", \"text\"]]\n",
        "    rows = []\n",
        "    for _, r in df.iterrows():\n",
        "        for lab in label_cols:\n",
        "            if r[lab] == 1:\n",
        "                rows.append({\"label\": lab, \"text\": r[\"text\"]})\n",
        "                break\n",
        "    out = pd.DataFrame(rows)\n",
        "    out[\"text\"] = out[\"text\"].astype(str).str.strip()\n",
        "    return out\n",
        "\n",
        "def load_istat_tsv(path: str):\n",
        "    df = pd.read_csv(path, sep=\"\\t\", header=None, names=[\"label\", \"text\"])\n",
        "    df[\"text\"] = df[\"text\"].astype(str).str.strip()\n",
        "    return df\n"
      ]
    },
    {
      "cell_type": "markdown",
      "source": [
        "## EMit: quick stats on multilabel vs single-label"
      ],
      "metadata": {
        "id": "pJh1zJFKX8aw"
      }
    },
    {
      "cell_type": "code",
      "source": [
        "emit_train = pd.read_csv(\"/content/emit_train_A.csv\")\n",
        "emit_test  = pd.read_csv(\"/content/emit_test.csv\")\n",
        "\n",
        "label_cols_train = [c for c in emit_train.columns if c not in [\"id\", \"text\"]]\n",
        "label_cols_test  = [c for c in emit_test.columns  if c not in [\"id\", \"text\"]]\n",
        "\n",
        "tr_multi, tr_single = count_multilabel_rows(emit_train, label_cols_train)\n",
        "te_multi, te_single = count_multilabel_rows(emit_test,  label_cols_test)\n",
        "print(f\"EMit train:  multilabel={tr_multi}, singlelabel={tr_single}\")\n",
        "print(f\"EMit test:   multilabel={te_multi}, singlelabel={te_single}\")\n"
      ],
      "metadata": {
        "colab": {
          "base_uri": "https://localhost:8080/"
        },
        "id": "rFiix_OyUTm1",
        "outputId": "d5715ac3-2037-4ff7-d1d2-d3439d5c3fbc"
      },
      "execution_count": 4,
      "outputs": [
        {
          "output_type": "stream",
          "name": "stdout",
          "text": [
            "EMit train:  multilabel=1175, singlelabel=4791\n",
            "EMit test:   multilabel=865, singlelabel=135\n",
            "train-all shape: (1854, 2)\n",
            "train-mix shape: (677, 2)\n",
            "train-gbv shape: (366, 2)\n",
            "valid-all shape: (327, 2)\n",
            "valid-mix shape: (120, 2)\n",
            "valid-gbv shape: (64, 2)\n",
            "test-all shape: (546, 2)\n",
            "test-mix shape: (200, 2)\n",
            "test-gbv shape: (108, 2)\n",
            "\n",
            "Intersections for split=train:\n",
            " all ∩ mix = 365\n",
            " all ∩ gbv = 248\n",
            " mix ∩ gbv = 285\n",
            " all ∩ mix ∩ gbv = 194\n",
            "\n",
            "Intersections for split=valid:\n",
            " all ∩ mix = 13\n",
            " all ∩ gbv = 9\n",
            " mix ∩ gbv = 24\n",
            " all ∩ mix ∩ gbv = 3\n",
            "\n",
            "Intersections for split=test:\n",
            " all ∩ mix = 46\n",
            " all ∩ gbv = 0\n",
            " mix ∩ gbv = 49\n",
            " all ∩ mix ∩ gbv = 0\n"
          ]
        }
      ]
    },
    {
      "cell_type": "markdown",
      "source": [
        "\n",
        "## ISTAT: sizes + intersections"
      ],
      "metadata": {
        "id": "L1igIrZxYC-H"
      }
    },
    {
      "cell_type": "code",
      "source": [
        "splits   = [\"train\", \"valid\", \"test\"]\n",
        "variants = [\"all\", \"mix\", \"gbv\"]\n",
        "istat_sets = {}\n",
        "\n",
        "for split in splits:\n",
        "    for var in variants:\n",
        "        df = load_istat_tsv(f\"/content/{split}-emotion-{var}.tsv\")\n",
        "        istat_sets[(split, var)] = set(df[\"text\"])\n",
        "        print(f\"{split}-{var} shape:\", df.shape)\n",
        "\n",
        "for split in splits:\n",
        "    s_all = istat_sets[(split, \"all\")]\n",
        "    s_mix = istat_sets[(split, \"mix\")]\n",
        "    s_gbv = istat_sets[(split, \"gbv\")]\n",
        "    print(f\"\\nIntersections for split={split}:\")\n",
        "    print(\" all ∩ mix =\", len(s_all & s_mix))\n",
        "    print(\" all ∩ gbv =\", len(s_all & s_gbv))\n",
        "    print(\" mix ∩ gbv =\", len(s_mix & s_gbv))\n",
        "    print(\" all ∩ mix ∩ gbv =\", len(s_all & s_mix & s_gbv))\n"
      ],
      "metadata": {
        "colab": {
          "base_uri": "https://localhost:8080/"
        },
        "id": "OKOR1ojvYCdq",
        "outputId": "5b89e0fa-fa31-4fe6-980f-6822cf291776"
      },
      "execution_count": 9,
      "outputs": [
        {
          "output_type": "stream",
          "name": "stdout",
          "text": [
            "train-all shape: (1854, 2)\n",
            "train-mix shape: (677, 2)\n",
            "train-gbv shape: (366, 2)\n",
            "valid-all shape: (327, 2)\n",
            "valid-mix shape: (120, 2)\n",
            "valid-gbv shape: (64, 2)\n",
            "test-all shape: (546, 2)\n",
            "test-mix shape: (200, 2)\n",
            "test-gbv shape: (108, 2)\n",
            "\n",
            "Intersections for split=train:\n",
            " all ∩ mix = 365\n",
            " all ∩ gbv = 248\n",
            " mix ∩ gbv = 285\n",
            " all ∩ mix ∩ gbv = 194\n",
            "\n",
            "Intersections for split=valid:\n",
            " all ∩ mix = 13\n",
            " all ∩ gbv = 9\n",
            " mix ∩ gbv = 24\n",
            " all ∩ mix ∩ gbv = 3\n",
            "\n",
            "Intersections for split=test:\n",
            " all ∩ mix = 46\n",
            " all ∩ gbv = 0\n",
            " mix ∩ gbv = 49\n",
            " all ∩ mix ∩ gbv = 0\n"
          ]
        }
      ]
    },
    {
      "cell_type": "markdown",
      "source": [
        "## Build general set and clean conflicts; save CSVs"
      ],
      "metadata": {
        "id": "OYfZ6GosYRVq"
      }
    },
    {
      "cell_type": "code",
      "source": [
        "for split in splits:\n",
        "    df_all = load_istat_tsv(f\"/content/{split}-emotion-all.tsv\")\n",
        "    df_mix = load_istat_tsv(f\"/content/{split}-emotion-mix.tsv\")\n",
        "    df_gbv = load_istat_tsv(f\"/content/{split}-emotion-gbv.tsv\")\n",
        "\n",
        "    # concat all+mix and drop exact dupes\n",
        "    df_gen = pd.concat([df_all, df_mix], ignore_index=True)\n",
        "    df_gen = df_gen.drop_duplicates(subset=[\"label\", \"text\"])\n",
        "    print(f\"\\n[{split}] after all+mix dedup:\", df_gen.shape)\n",
        "\n",
        "    # remove items that are exactly in gbv (same label+text)\n",
        "    gbv_pairs = set(df_gbv.apply(tuple, axis=1))\n",
        "    mask = df_gen.apply(tuple, axis=1).isin(gbv_pairs)\n",
        "    df_gen = df_gen.loc[~mask].copy()\n",
        "    print(f\"[{split}] after removing pairs present in gbv:\", df_gen.shape)\n",
        "\n",
        "    # remove conflicting texts (same text, different labels across gen vs gbv)\n",
        "    texts_gen = set(df_gen[\"text\"])\n",
        "    texts_gbv = set(df_gbv[\"text\"])\n",
        "    conflicted = {\n",
        "        t for t in (texts_gen & texts_gbv)\n",
        "        if set(df_gen.loc[df_gen[\"text\"] == t, \"label\"])\n",
        "        != set(df_gbv.loc[df_gbv[\"text\"] == t, \"label\"])\n",
        "    }\n",
        "    if conflicted:\n",
        "        df_gen = df_gen.loc[~df_gen[\"text\"].isin(conflicted)].copy()\n",
        "        df_gbv = df_gbv.loc[~df_gbv[\"text\"].isin(conflicted)].copy()\n",
        "    print(f\"[{split}] gen after removing conflicts:\", df_gen.shape)\n",
        "    print(f\"[{split}] gbv after removing conflicts:\", df_gbv.shape)\n",
        "\n",
        "    # save\n",
        "    df_gen.to_csv(f\"/content/{split}-emotion-geen.csv\", index=False)\n",
        "    df_gbv.to_csv(f\"/content/{split}-emotion-gbv.csv\", index=False)\n",
        "    print(f\"[{split}] saved: /content/{split}-emotion-geen.csv and /content/{split}-emotion-gbv.csv\")"
      ],
      "metadata": {
        "colab": {
          "base_uri": "https://localhost:8080/"
        },
        "id": "pf9bRgB6UXFk",
        "outputId": "45e435a1-5886-4c8a-ee4a-85f08d5ec069"
      },
      "execution_count": 5,
      "outputs": [
        {
          "output_type": "stream",
          "name": "stdout",
          "text": [
            "\n",
            "[train] after all+mix dedup: (2091, 2)\n",
            "[train] after removing pairs present in gbv: (1752, 2)\n",
            "[train] gen after removing conflicts: (1749, 2)\n",
            "[train] gbv after removing conflicts: (363, 2)\n",
            "[train] saved: /content/train-emotion-geen.csv and /content/train-emotion-gbv.csv\n",
            "\n",
            "[valid] after all+mix dedup: (427, 2)\n",
            "[valid] after removing pairs present in gbv: (397, 2)\n",
            "[valid] gen after removing conflicts: (396, 2)\n",
            "[valid] gbv after removing conflicts: (63, 2)\n",
            "[valid] saved: /content/valid-emotion-geen.csv and /content/valid-emotion-gbv.csv\n",
            "\n",
            "[test] after all+mix dedup: (697, 2)\n",
            "[test] after removing pairs present in gbv: (647, 2)\n",
            "[test] gen after removing conflicts: (647, 2)\n",
            "[test] gbv after removing conflicts: (108, 2)\n",
            "[test] saved: /content/test-emotion-geen.csv and /content/test-emotion-gbv.csv\n"
          ]
        }
      ]
    },
    {
      "cell_type": "markdown",
      "source": [
        "## EMit → monolabel CSVs and reformat EMit to ISTAT + 20% stratified valid"
      ],
      "metadata": {
        "id": "Z6JmgrR2YfXn"
      }
    },
    {
      "cell_type": "code",
      "source": [
        "emit_train_m = to_monolabel(emit_train, label_cols_train)\n",
        "emit_test_m  = to_monolabel(emit_test,  label_cols_test)\n",
        "\n",
        "for df in (emit_train_m, emit_test_m):\n",
        "    if \"Disgust\" in df.columns:\n",
        "        df[\"Anger\"] = df[\"Anger\"] | df[\"Disgust\"]\n",
        "        df.drop(columns=[\"Disgust\"], inplace=True)\n",
        "\n",
        "emit_train_m.to_csv(\"/content/emit_train_m.csv\", index=False)\n",
        "emit_test_m.to_csv(\"/content/emit_test_m.csv\",   index=False)\n",
        "print(\"\\nSaved EMit monolabel:\")\n",
        "print(\" /content/emit_train_m.csv\")\n",
        "print(\" /content/emit_test_m.csv\")\n",
        "\n",
        "df_train_fmt = reformat_emit_to_istat(emit_train_m)\n",
        "df_test_fmt  = reformat_emit_to_istat(emit_test_m)\n",
        "\n",
        "df_train_main, df_valid = train_test_split(\n",
        "    df_train_fmt, test_size=0.2, stratify=df_train_fmt[\"label\"], random_state=42\n",
        ")\n",
        "\n",
        "df_valid.to_csv(\"/content/emit_valid_m.csv\", index=False)\n",
        "print(\"\\nEMit formatted shapes:\")\n",
        "print(\"  train_formatted:\", df_train_fmt.shape)\n",
        "print(\"  test_formatted: \", df_test_fmt.shape)\n",
        "print(\"  valid_from_train:\", df_valid.shape)\n"
      ],
      "metadata": {
        "colab": {
          "base_uri": "https://localhost:8080/"
        },
        "id": "7HifuKdgUY7q",
        "outputId": "7aa17d6a-c3a3-4af3-d7bb-b1ce8b82f6f6"
      },
      "execution_count": 6,
      "outputs": [
        {
          "output_type": "stream",
          "name": "stdout",
          "text": [
            "\n",
            "Saved EMit monolabel:\n",
            " /content/emit_train_m.csv\n",
            " /content/emit_test_m.csv\n",
            "\n",
            "EMit formatted shapes:\n",
            "  train_formatted: (4791, 2)\n",
            "  test_formatted:  (135, 2)\n",
            "  valid_from_train: (959, 2)\n"
          ]
        }
      ]
    },
    {
      "cell_type": "markdown",
      "source": [
        "## Merge EMit + ISTAT to create final gen splits"
      ],
      "metadata": {
        "id": "ytYiRCWvYuh9"
      }
    },
    {
      "cell_type": "code",
      "source": [
        "train_gen = pd.read_csv(\"/content/train-emotion-geen.csv\")\n",
        "valid_gen = pd.read_csv(\"/content/valid-emotion-geen.csv\")\n",
        "test_gen  = pd.read_csv(\"/content/test-emotion-geen.csv\")\n",
        "\n",
        "train_def = pd.concat([df_train_main, train_gen], ignore_index=True)\n",
        "valid_def = pd.concat([df_valid,      valid_gen], ignore_index=True)\n",
        "test_def  = pd.concat([df_test_fmt,   test_gen ], ignore_index=True)\n",
        "\n",
        "train_def = train_def.drop_duplicates(subset=[\"label\", \"text\"])\n",
        "valid_def = valid_def.drop_duplicates(subset=[\"label\", \"text\"])\n",
        "test_def  = test_def.drop_duplicates(subset=[\"label\", \"text\"])\n",
        "\n",
        "train_def.to_csv(\"/content/train-emotion-gen.csv\", index=False)\n",
        "valid_def.to_csv(\"/content/valid-emotion-gen.csv\", index=False)\n",
        "test_def.to_csv(\"/content/test-emotion-gen.csv\",  index=False)\n",
        "\n",
        "print(\"\\nFinal DEF shapes:\")\n",
        "print(\"  train-emotion-gen:\", train_def.shape)\n",
        "print(\"  valid-emotion-gen:\", valid_def.shape)\n",
        "print(\"  test-emotion-gen: \", test_def.shape)\n",
        "print(\"\\nSaved GEN CSVs in /content/.\")"
      ],
      "metadata": {
        "colab": {
          "base_uri": "https://localhost:8080/"
        },
        "id": "NWdxGWMYUfGg",
        "outputId": "3a7ae7e5-4eb9-4411-85d2-f65eb8b5d706"
      },
      "execution_count": 7,
      "outputs": [
        {
          "output_type": "stream",
          "name": "stdout",
          "text": [
            "\n",
            "Final DEF shapes:\n",
            "  train-emotion-gen: (5461, 2)\n",
            "  valid-emotion-gen: (1347, 2)\n",
            "  test-emotion-gen:  (781, 2)\n",
            "\n",
            "Saved GEN CSVs in /content/.\n"
          ]
        }
      ]
    },
    {
      "cell_type": "markdown",
      "source": [
        "## Map Italian labels → English for GEN and GBV splits"
      ],
      "metadata": {
        "id": "5rI41UO3Y5QY"
      }
    },
    {
      "cell_type": "code",
      "source": [
        "it2en = {\n",
        "    \"AMORE\": \"Love\",\n",
        "    \"GIOIA\": \"Joy\",\n",
        "    \"NEUTRA\": \"Neutral\",\n",
        "    \"PAURA\": \"Fear\",\n",
        "    \"RABBIA\": \"Anger\",\n",
        "    \"SORPRESA\": \"Surprise\",\n",
        "    \"TRISTEZZA\": \"Sadness\",\n",
        "}\n",
        "\n",
        "for split in [\"train\", \"valid\", \"test\"]:\n",
        "    for t in [\"gen\", \"gbv\"]:\n",
        "        path = f\"/content/{split}-emotion-{t}.csv\"\n",
        "        try:\n",
        "            df = pd.read_csv(path)\n",
        "        except FileNotFoundError:\n",
        "            continue\n",
        "        before = sorted(df[\"label\"].unique())\n",
        "        df[\"label\"] = df[\"label\"].replace(it2en)\n",
        "        after = sorted(df[\"label\"].unique())\n",
        "        df.to_csv(path, index=False)\n",
        "        print(f\"{split}-{t}: labels before={before}  after={after}\")\n"
      ],
      "metadata": {
        "colab": {
          "base_uri": "https://localhost:8080/"
        },
        "id": "NWjINHx8Ui2k",
        "outputId": "5c3fcb49-eac8-4a5a-c57a-ecee3cc6ec04"
      },
      "execution_count": 8,
      "outputs": [
        {
          "output_type": "stream",
          "name": "stdout",
          "text": [
            "train-gen: labels before=['AMORE', 'Anger', 'Anticipation', 'Fear', 'GIOIA', 'Joy', 'Love', 'NEUTRA', 'Neutral', 'PAURA', 'RABBIA', 'SORPRESA', 'Sadness', 'Surprise', 'TRISTEZZA', 'Trust']  after=['Anger', 'Anticipation', 'Fear', 'Joy', 'Love', 'Neutral', 'Sadness', 'Surprise', 'Trust']\n",
            "train-gbv: labels before=['AMORE', 'GIOIA', 'NEUTRA', 'PAURA', 'RABBIA', 'SORPRESA', 'TRISTEZZA']  after=['Anger', 'Fear', 'Joy', 'Love', 'Neutral', 'Sadness', 'Surprise']\n",
            "valid-gen: labels before=['AMORE', 'Anger', 'Anticipation', 'Fear', 'GIOIA', 'Joy', 'Love', 'NEUTRA', 'Neutral', 'PAURA', 'RABBIA', 'SORPRESA', 'Sadness', 'Surprise', 'TRISTEZZA', 'Trust']  after=['Anger', 'Anticipation', 'Fear', 'Joy', 'Love', 'Neutral', 'Sadness', 'Surprise', 'Trust']\n",
            "valid-gbv: labels before=['AMORE', 'GIOIA', 'NEUTRA', 'PAURA', 'RABBIA', 'SORPRESA', 'TRISTEZZA']  after=['Anger', 'Fear', 'Joy', 'Love', 'Neutral', 'Sadness', 'Surprise']\n",
            "test-gen: labels before=['AMORE', 'Anger', 'Anticipation', 'GIOIA', 'Joy', 'Love', 'NEUTRA', 'Neutral', 'PAURA', 'RABBIA', 'SORPRESA', 'Sadness', 'Surprise', 'TRISTEZZA', 'Trust']  after=['Anger', 'Anticipation', 'Fear', 'Joy', 'Love', 'Neutral', 'Sadness', 'Surprise', 'Trust']\n",
            "test-gbv: labels before=['AMORE', 'GIOIA', 'NEUTRA', 'PAURA', 'RABBIA', 'SORPRESA', 'TRISTEZZA']  after=['Anger', 'Fear', 'Joy', 'Love', 'Neutral', 'Sadness', 'Surprise']\n"
          ]
        }
      ]
    }
  ]
}